{
 "cells": [
  {
   "cell_type": "code",
   "execution_count": 15,
   "metadata": {
    "collapsed": true
   },
   "outputs": [],
   "source": [
    "import os\n",
    "from deluge_client import DelugeRPCClient\n",
    "import shutil"
   ]
  },
  {
   "cell_type": "code",
   "execution_count": 16,
   "metadata": {},
   "outputs": [
    {
     "data": {
      "text/plain": [
       "True"
      ]
     },
     "execution_count": 16,
     "metadata": {},
     "output_type": "execute_result"
    }
   ],
   "source": [
    "client = DelugeRPCClient('192.168.1.2', 58846, 'michael', 'password')\n",
    "client.connect()\n",
    "client.connected"
   ]
  },
  {
   "cell_type": "code",
   "execution_count": 17,
   "metadata": {
    "collapsed": true
   },
   "outputs": [],
   "source": [
    "downloads = '/Volumes/downloads/'"
   ]
  },
  {
   "cell_type": "code",
   "execution_count": 18,
   "metadata": {
    "collapsed": true
   },
   "outputs": [],
   "source": [
    "torrent_statuses = client.call('core.get_torrents_status', {}, ['name'])\n",
    "names = [str(torrent_statuses[ts][b'name'],'utf8') for ts in torrent_statuses]"
   ]
  },
  {
   "cell_type": "code",
   "execution_count": 19,
   "metadata": {},
   "outputs": [],
   "source": [
    "names.append('completed')"
   ]
  },
  {
   "cell_type": "code",
   "execution_count": 20,
   "metadata": {},
   "outputs": [
    {
     "data": {
      "text/plain": [
       "['Paw.Patrol.S05E17.Sea.Patrol.Pups.Save.the.Pirated.Sea.Patroller.1080p.NICK.WEBRip.AAC2.0.x264-LAZY.mkv',\n",
       " 'Octopussy.1983.720p.BluRay.X264-AMIABLE',\n",
       " 'Fear.the.Walking.Dead.S04E02.HDTV.x264-SVA.mkv',\n",
       " 'Stewart.Lees.Comedy.Vehicle.S03.720p.WEBRip.AAC2.0.H.264-iPRiP',\n",
       " 'The.Transfiguration.2016.720p.BluRay.DD5.1.x264-OmertaHD',\n",
       " 'Its.Always.Sunny.in.Philadelphia.S12.1080p.WEB-DL.AAC2.0.H.264-BTN',\n",
       " 'Peppa.Pig.S04.1080p.WEB-DL.AAC2.0.H.264-BTN',\n",
       " 'Despicable.Me.DVDRip.XviD-iMBT',\n",
       " 'The.Good.The.Bad.And.The.Ugly.1966.EXTENDED.720p.BluRay.x264-FSiHD.mkv',\n",
       " 'stewart.lees.comedy.vehicle.s04e02.720p.hdtv.x264-barge.mkv',\n",
       " 'Peppa.Pig.S05E17.The.Zoo.720p.HDTV.DD5.1.x264-NTb.mkv',\n",
       " 'Fight.Club.1999.720p.BluRay.DTS.x264-HiDt.mkv',\n",
       " 'Marrowbone.2017.720p.BluRay.x264.mkv',\n",
       " 'Stewart.Lees.Comedy.Vehicle.S02.DVDRip.XviD-BTN',\n",
       " 'AFL 2017 Round 4 - Melbourne v Fremantle x264-VB.mp4',\n",
       " 'South.Park.S21.Complete.UNCENSORED.1080p.WEB-DL.AAC2.0.H.264-YFN',\n",
       " 'PAW.Patrol.S01.720p.WEB-DL.x264.AAC-NOGRP',\n",
       " 'Peppa.Pig.S05E31.Digger.World.720p.HDTV.DD5.1.x264-NTb.mkv',\n",
       " 'Sinister.2.2015.1080p.BluRay.x264-BLOW',\n",
       " 'The Spy Who Loved Me 1977 720p BluRay x264-EbP',\n",
       " 'Peppa.Pig.S05E02.The.Castle.REPACK.1080p.WEB-DL.DD5.1.H264.mkv',\n",
       " 'Peppa.Pig.S05E12.Grandpa.Pigs.Greenhouse.720p.HDTV.DD5.1.x264-NTb.mkv',\n",
       " 'The.Girl.with.All.the.Gifts.2016.720p.BluRay.x264-DRONES',\n",
       " 'Octopussy.1983.1080p.BluRay.DTS.x264-decibeL',\n",
       " 'Stewart.Lees.Comedy.Vehicle.S01E01.DVDRip.XviD-ARCHiViST.avi',\n",
       " 'Channel.Zero.S01.1080p.SYFY.WEBRip.AAC2.0.h264-BLUEPLANET',\n",
       " 'completed',\n",
       " 'The.Strangers.Prey.at.Night.2018.720p.BluRay.DD5.1.x264-CRiSC.mkv',\n",
       " 'The.Hateful.Eight.2015.720p.BluRay.DD5.1.x264-DON.mkv',\n",
       " 'Peppa.Pig.S05E01.Playing.Pretend.REPACK.1080p.WEB-DL.DD5.1.H264.mkv',\n",
       " 'The Dark Knight 2008 720p BluRay DD5.1 x264-ORiGEN',\n",
       " 'Paw.Patrol.S01E01.DANiSH.PDTV.x264-DKiDS.mp4',\n",
       " 'Paw.Patrol.S02.REPACK.1080p.WEB-DL.AAC2.0.H.264-BTN',\n",
       " 'Mighty.Machines.S01.Unknown.Mixed-NOGRP',\n",
       " 'The.Devils.Doorway.2018.720p.AMZN.WEB-DL.DDP5.1.H.264-NTG.mkv',\n",
       " 'The.Strangers.Prey.at.Night.2018.1080p.BluRay.x264-DRONES',\n",
       " 'Peppa.Pig.S05E20.Surfing.720p.HDTV.DD5.1.x264-NTb.mkv',\n",
       " 'A.View.to.a.Kill.1985.1080p.BluRay.DTS.x264-NTb',\n",
       " 'Unsane.2018.1080p.BluRay.x264-DRONES',\n",
       " 'Bambi.1941.BluRay.1080p.DTS.x264.dxva-decibeL.mkv',\n",
       " 'Peppa.Pig.S05E05.Pumpkin.Competition.1080p.WEB-DL.DD5.1.H264.mkv',\n",
       " 'Once.Were.Warriors.1994.720p.BluRay.DD5.1.x264-DON',\n",
       " 'Heat.1995.720p.BluRay.DD5.1.x264-EbP.mkv',\n",
       " 'Resident.Evil.The.Final.Chapter.2016.720p.BluRay.x264.DD5.1-HiFi.mkv',\n",
       " 'Peppa.Pig.S05E09.Simple.Science.720p.HDTV.DD5.1.x264-NTb.mkv',\n",
       " \"The.Handmaid's.Tale.S02E04.Other.Women.1080p.HULU.WEB-DL.AAC2.0.H.264-NTb.mkv\",\n",
       " \"The.Handmaid's.Tale.S02E06.First.Blood.720p.HULU.WEB-DL.AAC2.0.H.264-NTb.mkv\",\n",
       " 'Paw.Patrol.S5E11.Pups.Save.the.PawPaws.-.Pups.Save.a.Popped.Top.1080i.HDTV.LGP.[309E729F].mkv',\n",
       " 'Southbound.2015.720p.BluRay.X264-AMIABLE',\n",
       " 'Peppa.Pig.S02.1080p.WEB-DL.AAC2.0.H264-BTN',\n",
       " 'Unsane.2018.720p.BluRay.x264-DRONES',\n",
       " 'Combustion.DVDRip.2004',\n",
       " 'Finding.Dory.2016.1080p.BluRay.X264-AMIABLE',\n",
       " 'Peppa.Pig.S03.1080p.WEB-DL.AAC2.0.H264-BTN',\n",
       " 'peppa.pig.s05e16.720p.hdtv.x264-creed.mkv',\n",
       " 'AFL 2017 Round 8 - Richmond v Fremantle x264-VB.mp4',\n",
       " \"The.Handmaid's.Tale.S02E07.After.1080p.HULU.WEB-DL.AAC2.0.H.264-NTb.mkv\",\n",
       " 'Peppa.Pig.S05E29.Nursery.Rhymes.720p.HDTV.DD5.1.x264-NTb.mkv',\n",
       " 'The.Cellar.Door.2007.720p.BluRay.x264-VETO',\n",
       " \"The.Handmaid's.Tale.S02E05.Seeds.1080p.HULU.WEB-DL.AAC2.0.H.264-NTb.mkv\",\n",
       " \"The.Handmaid's.Tale.S02E10.The.Last.Ceremony.1080p.HULU.WEB-DL.AAC2.0.H.264-NTb.mkv\",\n",
       " 'stewart.lees.comedy.vehicle.s04e04.720p.hdtv.x264-c4tv.mkv',\n",
       " 'Peppa.Pig.S05E11.Mummy.Pigs.Book.720p.HDTV.DD5.1.x264-NTb.mkv',\n",
       " 'Alice.in.Wonderland.1951.1080p.BluRay.x264-EbP.mkv',\n",
       " 'Paw.Patrol.S03.1080p.WEB-DL.AAC2.0.H.264-BTN',\n",
       " 'Creep.2.2017.720p.AMZN.WEB-DL.DD+5.1.H.264-NTG.mkv',\n",
       " 'AFL 2017 Round 3 - Fremantle v Western Bulldogs 720p50 x264.mp4',\n",
       " 'Schindlers.List.1993.720p.BluRay.x264-HD4U',\n",
       " 'peppa.pig.s05e13.720p.hdtv.x264-creed.mkv',\n",
       " \"The.Handmaid's.Tale.S02E03.Baggage.1080p.HULU.WEB-DL.AAC2.0.H.264-NTb.mkv\",\n",
       " 'Peppa.Pig.S05E21.The.Great.Barrier.Reef.720p.HDTV.DD5.1.x264-NTb.mkv',\n",
       " 'Mighty Machines S02',\n",
       " 'Pyewacket.2017.720p.BluRay.x264-VETO',\n",
       " 'Peppa.Pig.S05E06.Gerald.Giraffe.1080p.WEB-DL.DD5.1.H264.mkv',\n",
       " 'Sinister.2.2015.720p.BluRay.DD5.1.x264-IDE',\n",
       " 'Peppa.Pig.S05E22.Boomerang.720p.HDTV.DD5.1.x264-NTb.mkv',\n",
       " 'qi.s15e04.over.and.ova.hdtv.x264-creed.mkv',\n",
       " 'Peppa.Pig.S05E34.Georges.Woolly.Hat.720p.HDTV.DD5.1.x264-NTb.mkv',\n",
       " 'Cars.3.2017.1080p.BluRay.X264-AMIABLE.mkv',\n",
       " 'Mom.and.Dad.2018.720p.BluRay.DD5.1.x264-OmertaHD.mkv',\n",
       " 'Batman.1989.720p.BluRay.x264.AC3-TBB.mkv',\n",
       " 'Boys.in.the.Trees.2016.720p.BluRay.x264-HANDJOB.mkv',\n",
       " 'Rick.And.Morty.S03.HDTV.x264-BTN',\n",
       " 'Peppa.Pig.S01.1080p.WEB-DL.AAC2.0.H264-BTN',\n",
       " 'Leatherface.2017.720p.BluRay.x264-ROVERS',\n",
       " 'stewart.lees.comedy.vehicle.s04e05.720p.hdtv.x264-angelic.mkv',\n",
       " 'Paw.Patrol.S5E13.Sea.Patrol.Pups.Save.a.Tilly.Turbot.-.Pups.Save.an.Upset.Elephant.1080i.HDTV.LGP.[B87FC523].mkv',\n",
       " 'The.Ex.PM.S01.PDTV.x264-BTN',\n",
       " 'Peppa.Pig.S05E15.London.720p.HDTV.DD5.1.x264-NTb.mkv',\n",
       " 'The Simpsons S28 1080p Amazon WEB-DL DD+ 5.1 H.264-TrollHD',\n",
       " 'conspiracy_1080_son.mkv',\n",
       " 'Mighty.Machines.1996.S03.DVDRip',\n",
       " 'Fantasia.1940.720p.BluRay.DTS.x264-EbP',\n",
       " 'Peppa.Pig.S05E14.Move.to.Music.720p.HDTV.DD5.1.x264-NTb.mkv',\n",
       " 'Bridge.of.Spies.2015.1080p.BluRay.DD5.1.x264-SA89.mkv',\n",
       " \"The.Handmaid's.Tale.S02E09.Smart.Power.1080p.HULU.WEB-DL.AAC2.0.H.264-NTb.mkv\",\n",
       " \"The.Handmaid's.Tale.S02E12.Postpartum.1080p.HULU.WEB-DL.AAC2.0.H.264-NTb.mkv\",\n",
       " 'The.Blackcoats.Daughter.2015.720p.BluRay.x264-RUSTED',\n",
       " 'Hounds of Love 2016 720p BluRay DD5.1 x264-SbR.mkv',\n",
       " 'The.Death.of.Stalin.2017.720p.BluRay.X264-AMIABLE',\n",
       " \"The.Handmaid's.Tale.S02E01.June.1080p.HULU.WEB-DL.AAC2.0.H.264-NTb.mkv\",\n",
       " 'Peppa.Pig.S05E32.Father.Christmas.720p.HDTV.DD5.1.x264-NTb.mkv',\n",
       " 'The.Conspiracy.2012.720p.Bluray.x264-SONiDO',\n",
       " 'Happy Death Day 2017 720p WEB-DL H264 AC3-EVO',\n",
       " 'Bridge.of.Spies.2015.720p.BluRay.DD5.1.x264-IDE',\n",
       " 'Peppa.Pig.S05E04.Scooters.1080p.WEB-DL.DD5.1.H264.mkv',\n",
       " 'Peppa.Pig.S05E18.Canal.Boat.720p.HDTV.DD5.1.x264-NTb.mkv',\n",
       " 'Fear.the.Walking.Dead.S04E01.HDTV.x264-SVA.mkv',\n",
       " 'PAW.Patrol.S04.1080p.WEB-DL.AAC2.0.x264-BTN',\n",
       " 'A.Dark.Song.2016.720p.BluRay.x264-ROVERS',\n",
       " 'Truth.or.Dare.2018.720p.BluRay.x264-GECKOS',\n",
       " 'Live.2007.x264.bdrip.720p.mkv',\n",
       " 'Shin.Godzilla.2016.1080p.BluRay.DTS.x264-ZQ.mkv',\n",
       " 'AFL 2017 Pre Season Fremantle v Carlton 576p',\n",
       " 'The.Leftovers.S03.HDTV.x264-Scene',\n",
       " 'Peppa.Pig.S05E30.Masks.720p.HDTV.DD5.1.x264-NTb.mkv',\n",
       " \"The.Handmaid's.Tale.S02E02.Unwomen.1080p.HULU.WEB-DL.AAC2.0.H.264-NTb.mkv\",\n",
       " 'Peppa.Pig.S05E07.Parachute.Jump.720p.HDTV.DD5.1.x264-NTb.mkv',\n",
       " '[ACX]Neon_Genesis_Evangelion_-_Platinum_-_01_-_Angel_Attack!_[SaintDeath]_[16144CEE].mkv',\n",
       " \"Peppa.Pig.S05E03.Miss Rabbit's.Taxi.REPACK.1080p.WEB-DL.DD5.1.H264.mkv\",\n",
       " 'Moonraker 1979 720p BluRay DD5.1 x264-SbR.mkv',\n",
       " 'Peppa.Pig.S05E19.The.Outback.720p.HDTV.DD5.1.x264-NTb.mkv',\n",
       " 'A.View.to.a.Kill.1985.720p.BluRay.X264-AMIABLE',\n",
       " 'peppa.pig.s05e10.720p.hdtv.x264-creed.mkv',\n",
       " 'outcast.s02e08.hdtv.x264-mtb.mkv',\n",
       " 'Star.Wars.Episode.IV.A.New.Hope.Extras.2011.BluRay.720p',\n",
       " 'Winchester.2018.720p.BluRay.DD5.1.x264-CHC.mkv',\n",
       " 'Dunkirk.2017.720p.BluRay.x264-SPARKS',\n",
       " 'Fear.the.Walking.Dead.S03.HDTV.x264-Scene',\n",
       " 'The.Handmaids.Tale.S01E01.Offred.1080p.AMZN.WEBRip.DDP5.1.x264-NTb.mkv']"
      ]
     },
     "execution_count": 20,
     "metadata": {},
     "output_type": "execute_result"
    }
   ],
   "source": [
    "items = os.listdir(downloads)\n",
    "items"
   ]
  },
  {
   "cell_type": "code",
   "execution_count": 21,
   "metadata": {},
   "outputs": [
    {
     "data": {
      "text/plain": [
       "130"
      ]
     },
     "execution_count": 21,
     "metadata": {},
     "output_type": "execute_result"
    }
   ],
   "source": [
    "len(items)"
   ]
  },
  {
   "cell_type": "code",
   "execution_count": 22,
   "metadata": {},
   "outputs": [
    {
     "data": {
      "text/plain": [
       "0"
      ]
     },
     "execution_count": 22,
     "metadata": {},
     "output_type": "execute_result"
    }
   ],
   "source": [
    "delete = [item for item in items if item not in names]\n",
    "len(delete)"
   ]
  },
  {
   "cell_type": "code",
   "execution_count": 23,
   "metadata": {},
   "outputs": [],
   "source": [
    "for d in delete:\n",
    "    path= os.path.join(downloads,d)\n",
    "    if os.path.isfile(path):\n",
    "        print(\"Deleting file: \" +path)\n",
    "        os.remove(path)\n",
    "    elif os.path.isdir(path):\n",
    "        print(\"Deleting directory: \"+path)\n",
    "        shutil.rmtree(path, ignore_errors=False, onerror=None)\n",
    "    else:\n",
    "        print(\"Couldn't delete: \" + path)"
   ]
  },
  {
   "cell_type": "code",
   "execution_count": null,
   "metadata": {
    "collapsed": true
   },
   "outputs": [],
   "source": []
  }
 ],
 "metadata": {
  "kernelspec": {
   "display_name": "Python 3",
   "language": "python",
   "name": "python3"
  },
  "language_info": {
   "codemirror_mode": {
    "name": "ipython",
    "version": 3
   },
   "file_extension": ".py",
   "mimetype": "text/x-python",
   "name": "python",
   "nbconvert_exporter": "python",
   "pygments_lexer": "ipython3",
   "version": "3.5.2"
  }
 },
 "nbformat": 4,
 "nbformat_minor": 2
}
